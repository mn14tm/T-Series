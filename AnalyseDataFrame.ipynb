{
 "cells": [
  {
   "cell_type": "code",
   "execution_count": 1,
   "metadata": {
    "collapsed": true
   },
   "outputs": [],
   "source": [
    "import numpy as np\n",
    "import pandas as pd\n",
    "import matplotlib.pyplot as plt\n",
    "%matplotlib inline"
   ]
  },
  {
   "cell_type": "markdown",
   "metadata": {},
   "source": [
    "# Load Dataframe"
   ]
  },
  {
   "cell_type": "code",
   "execution_count": 2,
   "metadata": {
    "collapsed": false
   },
   "outputs": [
    {
     "data": {
      "text/html": [
       "<div>\n",
       "<table border=\"1\" class=\"dataframe\">\n",
       "  <thead>\n",
       "    <tr style=\"text-align: right;\">\n",
       "      <th></th>\n",
       "      <th>StdOrder</th>\n",
       "      <th>RunOrder</th>\n",
       "      <th>CenterPt</th>\n",
       "      <th>Blocks</th>\n",
       "      <th>Er</th>\n",
       "      <th>Yb</th>\n",
       "      <th>Deposition Time</th>\n",
       "      <th>Pressure</th>\n",
       "      <th>Lifetime_100us_pump</th>\n",
       "      <th>Reflection (%)</th>\n",
       "      <th>Transmission (%)</th>\n",
       "      <th>n</th>\n",
       "      <th>d</th>\n",
       "    </tr>\n",
       "    <tr>\n",
       "      <th>Sample ID</th>\n",
       "      <th></th>\n",
       "      <th></th>\n",
       "      <th></th>\n",
       "      <th></th>\n",
       "      <th></th>\n",
       "      <th></th>\n",
       "      <th></th>\n",
       "      <th></th>\n",
       "      <th></th>\n",
       "      <th></th>\n",
       "      <th></th>\n",
       "      <th></th>\n",
       "      <th></th>\n",
       "    </tr>\n",
       "  </thead>\n",
       "  <tbody>\n",
       "    <tr>\n",
       "      <th>T2</th>\n",
       "      <td>5</td>\n",
       "      <td>1</td>\n",
       "      <td>1</td>\n",
       "      <td>1</td>\n",
       "      <td>-1</td>\n",
       "      <td>-1</td>\n",
       "      <td>1</td>\n",
       "      <td>1</td>\n",
       "      <td>12.478841</td>\n",
       "      <td>0.173160</td>\n",
       "      <td>92.644947</td>\n",
       "      <td>1.5881</td>\n",
       "      <td>1.0821</td>\n",
       "    </tr>\n",
       "    <tr>\n",
       "      <th>T4</th>\n",
       "      <td>4</td>\n",
       "      <td>2</td>\n",
       "      <td>1</td>\n",
       "      <td>1</td>\n",
       "      <td>1</td>\n",
       "      <td>1</td>\n",
       "      <td>-1</td>\n",
       "      <td>-1</td>\n",
       "      <td>1.541386</td>\n",
       "      <td>0.240195</td>\n",
       "      <td>90.473665</td>\n",
       "      <td>1.6868</td>\n",
       "      <td>0.6425</td>\n",
       "    </tr>\n",
       "    <tr>\n",
       "      <th>T5</th>\n",
       "      <td>1</td>\n",
       "      <td>3</td>\n",
       "      <td>1</td>\n",
       "      <td>1</td>\n",
       "      <td>-1</td>\n",
       "      <td>-1</td>\n",
       "      <td>-1</td>\n",
       "      <td>-1</td>\n",
       "      <td>12.971973</td>\n",
       "      <td>0.171110</td>\n",
       "      <td>92.162333</td>\n",
       "      <td>1.5801</td>\n",
       "      <td>0.7351</td>\n",
       "    </tr>\n",
       "    <tr>\n",
       "      <th>T6</th>\n",
       "      <td>8</td>\n",
       "      <td>4</td>\n",
       "      <td>1</td>\n",
       "      <td>1</td>\n",
       "      <td>1</td>\n",
       "      <td>1</td>\n",
       "      <td>1</td>\n",
       "      <td>1</td>\n",
       "      <td>10.131770</td>\n",
       "      <td>0.305797</td>\n",
       "      <td>90.872803</td>\n",
       "      <td>1.6613</td>\n",
       "      <td>1.2078</td>\n",
       "    </tr>\n",
       "    <tr>\n",
       "      <th>T7</th>\n",
       "      <td>2</td>\n",
       "      <td>5</td>\n",
       "      <td>1</td>\n",
       "      <td>1</td>\n",
       "      <td>1</td>\n",
       "      <td>-1</td>\n",
       "      <td>-1</td>\n",
       "      <td>1</td>\n",
       "      <td>10.870046</td>\n",
       "      <td>0.138847</td>\n",
       "      <td>93.050809</td>\n",
       "      <td>1.6191</td>\n",
       "      <td>0.4802</td>\n",
       "    </tr>\n",
       "  </tbody>\n",
       "</table>\n",
       "</div>"
      ],
      "text/plain": [
       "           StdOrder  RunOrder  CenterPt  Blocks  Er  Yb  Deposition Time  \\\n",
       "Sample ID                                                                  \n",
       "T2                5         1         1       1  -1  -1                1   \n",
       "T4                4         2         1       1   1   1               -1   \n",
       "T5                1         3         1       1  -1  -1               -1   \n",
       "T6                8         4         1       1   1   1                1   \n",
       "T7                2         5         1       1   1  -1               -1   \n",
       "\n",
       "           Pressure  Lifetime_100us_pump  Reflection (%)  Transmission (%)  \\\n",
       "Sample ID                                                                    \n",
       "T2                1            12.478841        0.173160         92.644947   \n",
       "T4               -1             1.541386        0.240195         90.473665   \n",
       "T5               -1            12.971973        0.171110         92.162333   \n",
       "T6                1            10.131770        0.305797         90.872803   \n",
       "T7                1            10.870046        0.138847         93.050809   \n",
       "\n",
       "                n       d  \n",
       "Sample ID                  \n",
       "T2         1.5881  1.0821  \n",
       "T4         1.6868  0.6425  \n",
       "T5         1.5801  0.7351  \n",
       "T6         1.6613  1.2078  \n",
       "T7         1.6191  0.4802  "
      ]
     },
     "execution_count": 2,
     "metadata": {},
     "output_type": "execute_result"
    }
   ],
   "source": [
    "df = pd.read_csv('Screening.csv', index_col='Sample ID') \n",
    "df.head()"
   ]
  },
  {
   "cell_type": "code",
   "execution_count": 6,
   "metadata": {
    "collapsed": false
   },
   "outputs": [
    {
     "data": {
      "text/html": [
       "<div>\n",
       "<table border=\"1\" class=\"dataframe\">\n",
       "  <thead>\n",
       "    <tr style=\"text-align: right;\">\n",
       "      <th></th>\n",
       "      <th>n</th>\n",
       "      <th>d</th>\n",
       "    </tr>\n",
       "    <tr>\n",
       "      <th>Sample ID</th>\n",
       "      <th></th>\n",
       "      <th></th>\n",
       "    </tr>\n",
       "  </thead>\n",
       "  <tbody>\n",
       "    <tr>\n",
       "      <th>T2</th>\n",
       "      <td>1.5881</td>\n",
       "      <td>1.0821</td>\n",
       "    </tr>\n",
       "    <tr>\n",
       "      <th>T4</th>\n",
       "      <td>1.6868</td>\n",
       "      <td>0.6425</td>\n",
       "    </tr>\n",
       "    <tr>\n",
       "      <th>T5</th>\n",
       "      <td>1.5801</td>\n",
       "      <td>0.7351</td>\n",
       "    </tr>\n",
       "    <tr>\n",
       "      <th>T6</th>\n",
       "      <td>1.6613</td>\n",
       "      <td>1.2078</td>\n",
       "    </tr>\n",
       "    <tr>\n",
       "      <th>T7</th>\n",
       "      <td>1.6191</td>\n",
       "      <td>0.4802</td>\n",
       "    </tr>\n",
       "    <tr>\n",
       "      <th>T8</th>\n",
       "      <td>1.6297</td>\n",
       "      <td>1.7061</td>\n",
       "    </tr>\n",
       "    <tr>\n",
       "      <th>T10</th>\n",
       "      <td>1.6181</td>\n",
       "      <td>0.6988</td>\n",
       "    </tr>\n",
       "    <tr>\n",
       "      <th>T11</th>\n",
       "      <td>1.6158</td>\n",
       "      <td>0.6819</td>\n",
       "    </tr>\n",
       "    <tr>\n",
       "      <th>T14</th>\n",
       "      <td>NaN</td>\n",
       "      <td>NaN</td>\n",
       "    </tr>\n",
       "    <tr>\n",
       "      <th>T15</th>\n",
       "      <td>1.6072</td>\n",
       "      <td>0.9697</td>\n",
       "    </tr>\n",
       "    <tr>\n",
       "      <th>T16</th>\n",
       "      <td>1.6119</td>\n",
       "      <td>1.0520</td>\n",
       "    </tr>\n",
       "    <tr>\n",
       "      <th>T20</th>\n",
       "      <td>NaN</td>\n",
       "      <td>NaN</td>\n",
       "    </tr>\n",
       "    <tr>\n",
       "      <th>T21</th>\n",
       "      <td>1.6058</td>\n",
       "      <td>1.1967</td>\n",
       "    </tr>\n",
       "    <tr>\n",
       "      <th>T22</th>\n",
       "      <td>1.6185</td>\n",
       "      <td>1.5517</td>\n",
       "    </tr>\n",
       "    <tr>\n",
       "      <th>T23</th>\n",
       "      <td>1.6132</td>\n",
       "      <td>1.0751</td>\n",
       "    </tr>\n",
       "    <tr>\n",
       "      <th>T24</th>\n",
       "      <td>1.6048</td>\n",
       "      <td>2.3665</td>\n",
       "    </tr>\n",
       "    <tr>\n",
       "      <th>T25</th>\n",
       "      <td>1.6791</td>\n",
       "      <td>1.4214</td>\n",
       "    </tr>\n",
       "    <tr>\n",
       "      <th>T26</th>\n",
       "      <td>1.6308</td>\n",
       "      <td>2.0468</td>\n",
       "    </tr>\n",
       "    <tr>\n",
       "      <th>T27</th>\n",
       "      <td>1.6310</td>\n",
       "      <td>1.7988</td>\n",
       "    </tr>\n",
       "    <tr>\n",
       "      <th>T28</th>\n",
       "      <td>1.6308</td>\n",
       "      <td>2.5432</td>\n",
       "    </tr>\n",
       "    <tr>\n",
       "      <th>T29</th>\n",
       "      <td>1.6026</td>\n",
       "      <td>0.8407</td>\n",
       "    </tr>\n",
       "  </tbody>\n",
       "</table>\n",
       "</div>"
      ],
      "text/plain": [
       "                n       d\n",
       "Sample ID                \n",
       "T2         1.5881  1.0821\n",
       "T4         1.6868  0.6425\n",
       "T5         1.5801  0.7351\n",
       "T6         1.6613  1.2078\n",
       "T7         1.6191  0.4802\n",
       "T8         1.6297  1.7061\n",
       "T10        1.6181  0.6988\n",
       "T11        1.6158  0.6819\n",
       "T14           NaN     NaN\n",
       "T15        1.6072  0.9697\n",
       "T16        1.6119  1.0520\n",
       "T20           NaN     NaN\n",
       "T21        1.6058  1.1967\n",
       "T22        1.6185  1.5517\n",
       "T23        1.6132  1.0751\n",
       "T24        1.6048  2.3665\n",
       "T25        1.6791  1.4214\n",
       "T26        1.6308  2.0468\n",
       "T27        1.6310  1.7988\n",
       "T28        1.6308  2.5432\n",
       "T29        1.6026  0.8407"
      ]
     },
     "execution_count": 6,
     "metadata": {},
     "output_type": "execute_result"
    }
   ],
   "source": [
    "df[['n', 'd']]"
   ]
  },
  {
   "cell_type": "code",
   "execution_count": null,
   "metadata": {
    "collapsed": true
   },
   "outputs": [],
   "source": [
    "df.sort()"
   ]
  },
  {
   "cell_type": "code",
   "execution_count": 11,
   "metadata": {
    "collapsed": false
   },
   "outputs": [
    {
     "data": {
      "text/plain": [
       "<matplotlib.axes._subplots.AxesSubplot at 0x93be198>"
      ]
     },
     "execution_count": 11,
     "metadata": {},
     "output_type": "execute_result"
    },
    {
     "name": "stderr",
     "output_type": "stream",
     "text": [
      "C:\\Users\\mn14tm\\AppData\\Local\\Continuum\\Anaconda3\\lib\\site-packages\\matplotlib\\collections.py:590: FutureWarning: elementwise comparison failed; returning scalar instead, but in the future will perform elementwise comparison\n",
      "  if self._edgecolors == str('face'):\n"
     ]
    },
    {
     "data": {
      "image/png": "[encoded data removed]",
      "text/plain": [
       "<matplotlib.figure.Figure at 0x93ef518>"
      ]
     },
     "metadata": {},
     "output_type": "display_data"
    }
   ],
   "source": [
    "df.plot(kind='scatter', x='Reflection', y='Transmission')"
   ]
  },
  {
   "cell_type": "code",
   "execution_count": null,
   "metadata": {
    "collapsed": true
   },
   "outputs": [],
   "source": []
  }
 ],
 "metadata": {
  "kernelspec": {
   "display_name": "Python [default]",
   "language": "python",
   "name": "python3"
  },
  "language_info": {
   "codemirror_mode": {
    "name": "ipython",
    "version": 3
   },
   "file_extension": ".py",
   "mimetype": "text/x-python",
   "name": "python",
   "nbconvert_exporter": "python",
   "pygments_lexer": "ipython3",
   "version": "3.5.2"
  }
 },
 "nbformat": 4,
 "nbformat_minor": 0
}
